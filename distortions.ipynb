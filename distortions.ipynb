{
 "cells": [
  {
   "cell_type": "markdown",
   "metadata": {},
   "source": [
    "# Distortions\n",
    "\n",
    "Performs research for the following distrtions\n",
    "\n",
    "- Pruning\n",
    "- SVD\n",
    "\n",
    "## Imports"
   ]
  },
  {
   "cell_type": "code",
   "execution_count": 1,
   "metadata": {},
   "outputs": [],
   "source": [
    "import torch\n",
    "\n",
    "import matplotlib.pyplot as plt\n",
    "\n",
    "from tqdm import tqdm\n",
    "from collections import OrderedDict"
   ]
  },
  {
   "cell_type": "code",
   "execution_count": 2,
   "metadata": {},
   "outputs": [],
   "source": [
    "from distortions import *"
   ]
  },
  {
   "cell_type": "markdown",
   "metadata": {},
   "source": [
    "## Read in data"
   ]
  },
  {
   "cell_type": "code",
   "execution_count": 3,
   "metadata": {},
   "outputs": [],
   "source": [
    "state_dict = torch.load('output_DEPRECATED/pytorch_model.bin')"
   ]
  },
  {
   "cell_type": "code",
   "execution_count": 4,
   "metadata": {},
   "outputs": [],
   "source": [
    "pruned_state_dict = global_prune(state_dict)"
   ]
  },
  {
   "cell_type": "code",
   "execution_count": 5,
   "metadata": {},
   "outputs": [
    {
     "data": {
      "text/plain": [
       "201"
      ]
     },
     "execution_count": 5,
     "metadata": {},
     "output_type": "execute_result"
    }
   ],
   "source": [
    "len(state_dict)"
   ]
  },
  {
   "cell_type": "code",
   "execution_count": 6,
   "metadata": {},
   "outputs": [],
   "source": [
    "sizes = []\n",
    "\n",
    "for key in state_dict.keys():\n",
    "    sizes.append((key,) + tuple(state_dict[key].shape))\n",
    "\n",
    "sizes_df = pd.DataFrame(sizes, columns=['name', 'x', 'y'])"
   ]
  },
  {
   "cell_type": "markdown",
   "metadata": {},
   "source": [
    "## Global pruning"
   ]
  },
  {
   "cell_type": "code",
   "execution_count": 24,
   "metadata": {},
   "outputs": [],
   "source": [
    "def global_prune(state_dict, p=.2):\n",
    "    \n",
    "    all_scalars = torch.cat([x.flatten() for x in state_dict.values()]).cpu()\n",
    "    scalars_np = all_scalars.abs().numpy()\n",
    "    thresh = np.quantile(scalars_np, p)\n",
    "\n",
    "    new_state_dict = OrderedDict()\n",
    "    \n",
    "    for key in state_dict.keys():\n",
    "        mat = state_dict[key]\n",
    "        mat[mat.abs() < thresh] = 0\n",
    "        new_state_dict[key] = mat\n",
    "        \n",
    "    return new_state_dict"
   ]
  },
  {
   "cell_type": "code",
   "execution_count": 26,
   "metadata": {},
   "outputs": [
    {
     "name": "stdout",
     "output_type": "stream",
     "text": [
      "CPU times: user 789 ms, sys: 328 ms, total: 1.12 s\n",
      "Wall time: 964 ms\n"
     ]
    }
   ],
   "source": [
    "%%time\n",
    "pruned_state_dict = global_prune(state_dict)"
   ]
  },
  {
   "cell_type": "markdown",
   "metadata": {},
   "source": [
    "## SVD Research"
   ]
  },
  {
   "cell_type": "code",
   "execution_count": 5,
   "metadata": {},
   "outputs": [],
   "source": [
    "num_params = 0\n",
    "for key in state_dict.keys():\n",
    "    num_params += state_dict[key].numel()"
   ]
  },
  {
   "cell_type": "code",
   "execution_count": 9,
   "metadata": {},
   "outputs": [],
   "source": [
    "def svd_compress(state_dict, k=100, tqdm=False):\n",
    "    new_state_dict = OrderedDict()\n",
    "    \n",
    "    keys_iter = state_dict.keys()\n",
    "    if tqdm:\n",
    "        keys_iter = tqdm(keys_iter)\n",
    "    for key in keys_iter:\n",
    "        mat = state_dict[key]\n",
    "\n",
    "        if len(mat.shape) == 2:\n",
    "            i, j = mat.shape\n",
    "            U, S, V = torch.svd(mat)\n",
    "            S[k:] = 0\n",
    "            recovered_mat = (U @ torch.diag(S) @ V.t())\n",
    "        else:\n",
    "            recovered_mat = mat\n",
    "\n",
    "        new_state_dict[key] = recovered_mat \n",
    "    \n",
    "    return new_state_dict"
   ]
  },
  {
   "cell_type": "code",
   "execution_count": 90,
   "metadata": {},
   "outputs": [
    {
     "data": {
      "text/plain": [
       "'2019-04-26_19_25'"
      ]
     },
     "execution_count": 90,
     "metadata": {},
     "output_type": "execute_result"
    }
   ],
   "source": [
    "from datetime import datetime\n",
    "import pytz\n",
    "\n",
    "now = datetime.now(tz=pytz.UTC)\n",
    "now_est = now.astimezone(pytz.timezone('America/New_York'))\n",
    "now_est.strftime('%Y-%m-%d_%H_%M')"
   ]
  },
  {
   "cell_type": "code",
   "execution_count": 86,
   "metadata": {},
   "outputs": [
    {
     "data": {
      "text/plain": [
       "<DstTzInfo 'America/New_York' LMT-1 day, 19:04:00 STD>"
      ]
     },
     "execution_count": 86,
     "metadata": {},
     "output_type": "execute_result"
    }
   ],
   "source": [
    "pytz.timezone('America/New_York')"
   ]
  },
  {
   "cell_type": "code",
   "execution_count": 87,
   "metadata": {},
   "outputs": [
    {
     "data": {
      "text/plain": [
       "datetime.datetime(2019, 4, 26, 19, 20, 44, 116683, tzinfo=<DstTzInfo 'America/New_York' EDT-1 day, 20:00:00 DST>)"
      ]
     },
     "execution_count": 87,
     "metadata": {},
     "output_type": "execute_result"
    }
   ],
   "source": [
    "now.astimezone(pytz.timezone('America/New_York'))"
   ]
  },
  {
   "cell_type": "code",
   "execution_count": 76,
   "metadata": {},
   "outputs": [
    {
     "data": {
      "text/plain": [
       "'2019-04-26_23_17'"
      ]
     },
     "execution_count": 76,
     "metadata": {},
     "output_type": "execute_result"
    }
   ],
   "source": [
    "now"
   ]
  },
  {
   "cell_type": "code",
   "execution_count": 58,
   "metadata": {},
   "outputs": [],
   "source": [
    "def weight_prune(state_dict, p=.2, tqdm=False):\n",
    "    new_state_dict = OrderedDict()\n",
    "    \n",
    "    keys_iter = state_dict.keys()\n",
    "    if tqdm:\n",
    "        keys_iter = tqdm(keys_iter)\n",
    "    \n",
    "    for key in keys_iter:\n",
    "        mat = state_dict[key]\n",
    "        abs_mat = mat.abs()\n",
    "\n",
    "        np_abs_mat = abs_mat.cpu().numpy()\n",
    "        thresh = np.percentile(np_abs_mat.flatten(), 100 * p)\n",
    "        \n",
    "        mat[abs_mat < thresh] = 0\n",
    "        \n",
    "        new_state_dict[key] = mat\n",
    "    \n",
    "    return new_state_dict\n",
    "        "
   ]
  },
  {
   "cell_type": "code",
   "execution_count": 51,
   "metadata": {},
   "outputs": [],
   "source": [
    "np_abs_mat = abs_mat.cpu().numpy()"
   ]
  },
  {
   "cell_type": "code",
   "execution_count": 56,
   "metadata": {},
   "outputs": [
    {
     "name": "stdout",
     "output_type": "stream",
     "text": [
      "5.35 ms ± 23.3 µs per loop (mean ± std. dev. of 7 runs, 100 loops each)\n"
     ]
    }
   ],
   "source": [
    "%%timeit\n",
    "np_abs_mat = abs_mat.cpu().numpy()\n",
    "np.percentile(np_abs_mat.flatten(), 100  * p)"
   ]
  },
  {
   "cell_type": "code",
   "execution_count": 57,
   "metadata": {},
   "outputs": [
    {
     "data": {
      "text/plain": [
       "0.010379132814705372"
      ]
     },
     "execution_count": 57,
     "metadata": {},
     "output_type": "execute_result"
    }
   ],
   "source": [
    "np.percentile(np_abs_mat.flatten(), 100  * p)"
   ]
  },
  {
   "cell_type": "code",
   "execution_count": 55,
   "metadata": {},
   "outputs": [
    {
     "name": "stdout",
     "output_type": "stream",
     "text": [
      "9.57 ms ± 26.1 µs per loop (mean ± std. dev. of 7 runs, 100 loops each)\n"
     ]
    }
   ],
   "source": [
    "%timeit _, indices = torch.topk(abs_mat.flatten(), int(p * abs_mat.numel()), largest=False, )"
   ]
  },
  {
   "cell_type": "code",
   "execution_count": 18,
   "metadata": {},
   "outputs": [
    {
     "data": {
      "text/plain": [
       "tensor(-1.9142e-07, device='cuda:0')"
      ]
     },
     "execution_count": 18,
     "metadata": {},
     "output_type": "execute_result"
    }
   ],
   "source": [
    "mat.flatten()[174078]"
   ]
  },
  {
   "cell_type": "code",
   "execution_count": 19,
   "metadata": {},
   "outputs": [
    {
     "data": {
      "text/plain": [
       "tensor(5.7189e-07, device='cuda:0')"
      ]
     },
     "execution_count": 19,
     "metadata": {},
     "output_type": "execute_result"
    }
   ],
   "source": [
    "mat.flatten()[243474]"
   ]
  },
  {
   "cell_type": "code",
   "execution_count": null,
   "metadata": {},
   "outputs": [],
   "source": [
    "def prune_weights"
   ]
  },
  {
   "cell_type": "code",
   "execution_count": 6,
   "metadata": {},
   "outputs": [
    {
     "name": "stderr",
     "output_type": "stream",
     "text": [
      "100%|██████████| 201/201 [00:14<00:00, 13.91it/s]\n"
     ]
    }
   ],
   "source": [
    "compressed_params = 0\n",
    "new_state_dict = OrderedDict()\n",
    "k = 500\n",
    "\n",
    "for key in tqdm(state_dict.keys()):\n",
    "    mat = state_dict[key]\n",
    "    \n",
    "    if len(mat.shape) == 2:\n",
    "        i, j = mat.shape\n",
    "        U, S, V = torch.svd(mat)\n",
    "        S[k:] = 0\n",
    "        recovered_mat = (U @ torch.diag(S) @ V.t())\n",
    "        compressed_params += (i + j + 1) * k\n",
    "    else:\n",
    "        recovered_mat = mat\n",
    "        compressed_params += mat.numel()\n",
    "        \n",
    "    new_state_dict[key] = recovered_mat"
   ]
  },
  {
   "cell_type": "code",
   "execution_count": null,
   "metadata": {},
   "outputs": [],
   "source": []
  },
  {
   "cell_type": "code",
   "execution_count": 7,
   "metadata": {},
   "outputs": [
    {
     "name": "stdout",
     "output_type": "stream",
     "text": [
      "109,483,778\n"
     ]
    }
   ],
   "source": [
    "print('{:,}'.format(num_params))"
   ]
  },
  {
   "cell_type": "code",
   "execution_count": 8,
   "metadata": {},
   "outputs": [
    {
     "name": "stdout",
     "output_type": "stream",
     "text": [
      "100,927,614\n"
     ]
    }
   ],
   "source": [
    "print('{:,}'.format(compressed_params))"
   ]
  },
  {
   "cell_type": "markdown",
   "metadata": {},
   "source": [
    "## Save the results"
   ]
  },
  {
   "cell_type": "code",
   "execution_count": 177,
   "metadata": {},
   "outputs": [],
   "source": [
    "with open('output/compressed_model.pt', 'wb') as f:\n",
    "    torch.save(new_state_dict, f)"
   ]
  },
  {
   "cell_type": "markdown",
   "metadata": {},
   "source": [
    "## Testing"
   ]
  },
  {
   "cell_type": "code",
   "execution_count": 12,
   "metadata": {},
   "outputs": [],
   "source": [
    "key = 'bert.encoder.layer.0.attention.self.query.weight'"
   ]
  },
  {
   "cell_type": "code",
   "execution_count": 14,
   "metadata": {},
   "outputs": [],
   "source": [
    "mat = state_dict[key]"
   ]
  },
  {
   "cell_type": "code",
   "execution_count": 58,
   "metadata": {},
   "outputs": [],
   "source": [
    "key = 'bert.encoder.layer.0.attention.self.key.weight'"
   ]
  },
  {
   "cell_type": "code",
   "execution_count": 59,
   "metadata": {},
   "outputs": [
    {
     "data": {
      "text/plain": [
       "tensor([[ 0.0070, -0.0370,  0.0209,  ...,  0.0124, -0.0134, -0.0095],\n",
       "        [ 0.0254, -0.0635,  0.0151,  ..., -0.0159, -0.0418,  0.0155],\n",
       "        [-0.0171, -0.0174, -0.0338,  ..., -0.0260, -0.0431, -0.0106],\n",
       "        ...,\n",
       "        [ 0.0198, -0.0184, -0.0106,  ...,  0.0205, -0.0562,  0.0851],\n",
       "        [-0.0551,  0.0235, -0.0182,  ..., -0.0068, -0.0174, -0.0674],\n",
       "        [ 0.0061, -0.0491,  0.0215,  ..., -0.0039, -0.0019, -0.0017]],\n",
       "       device='cuda:0')"
      ]
     },
     "execution_count": 59,
     "metadata": {},
     "output_type": "execute_result"
    }
   ],
   "source": [
    "state_dict[key]"
   ]
  },
  {
   "cell_type": "code",
   "execution_count": 50,
   "metadata": {},
   "outputs": [],
   "source": [
    "mat = state_dict[key]\n",
    "\n",
    "U, S, V = torch.svd(mat)"
   ]
  },
  {
   "cell_type": "code",
   "execution_count": 51,
   "metadata": {},
   "outputs": [],
   "source": [
    "x, _ = torch.sort(S, descending=True)"
   ]
  },
  {
   "cell_type": "code",
   "execution_count": 52,
   "metadata": {},
   "outputs": [],
   "source": [
    "import seaborn as sns"
   ]
  },
  {
   "cell_type": "code",
   "execution_count": 53,
   "metadata": {},
   "outputs": [
    {
     "data": {
      "image/png": "[encoded data removed]",
      "text/plain": [
       "<Figure size 288x216 with 1 Axes>"
      ]
     },
     "metadata": {
      "needs_background": "light"
     },
     "output_type": "display_data"
    }
   ],
   "source": [
    "plt.figure(figsize=(4,3))\n",
    "plt.plot(np.arange(len(S)), x.cpu().numpy())\n",
    "plt.xlabel(r'k')\n",
    "plt.ylabel(r'k-th largest singular value')\n",
    "plt.title('BERT 0th layer query weights SVD')\n",
    "sns.despine()\n",
    "plt.tight_layout()\n",
    "plt.savefig('figs/svd-singular-vals-distribution.png', dpi=300, bbox_inches='tight')"
   ]
  },
  {
   "cell_type": "code",
   "execution_count": 13,
   "metadata": {},
   "outputs": [
    {
     "data": {
      "image/png": "[encoded data removed]",
      "text/plain": [
       "<Figure size 432x288 with 1 Axes>"
      ]
     },
     "metadata": {
      "needs_background": "light"
     },
     "output_type": "display_data"
    }
   ],
   "source": [
    "cumsums = (torch.cumsum(S ** 2, 0) / torch.sum(S ** 2)).cpu().numpy()\n",
    "\n",
    "plt.plot(np.arange(len(cumsums)), cumsums);"
   ]
  },
  {
   "cell_type": "code",
   "execution_count": 154,
   "metadata": {},
   "outputs": [
    {
     "data": {
      "image/png": "[encoded data removed]",
      "text/plain": [
       "<Figure size 432x288 with 1 Axes>"
      ]
     },
     "metadata": {
      "needs_background": "light"
     },
     "output_type": "display_data"
    }
   ],
   "source": [
    "plt.hist(S.cpu().numpy(), bins=30);"
   ]
  },
  {
   "cell_type": "code",
   "execution_count": 64,
   "metadata": {},
   "outputs": [
    {
     "data": {
      "text/plain": [
       "tensor([[ 4.2841e-08,  8.5682e-08,  2.7940e-08,  ...,  2.2724e-07,\n",
       "         -5.2154e-08,  4.0978e-08],\n",
       "        [ 2.9802e-08,  3.3528e-08, -3.0920e-07,  ...,  0.0000e+00,\n",
       "         -1.4901e-07,  5.2620e-08],\n",
       "        [-1.3132e-07, -1.0803e-07,  3.7439e-07,  ...,  8.9407e-08,\n",
       "          3.0734e-07, -1.4156e-07],\n",
       "        ...,\n",
       "        [-1.8626e-08, -2.2352e-08, -8.1956e-08,  ...,  9.3132e-09,\n",
       "          1.7509e-07, -2.1607e-07],\n",
       "        [ 2.9802e-08,  1.4901e-08,  0.0000e+00,  ..., -1.3411e-07,\n",
       "         -3.3528e-08,  1.5646e-07],\n",
       "        [-9.3132e-08, -1.4901e-08,  3.7253e-08,  ..., -1.8626e-09,\n",
       "          7.4506e-09, -6.3330e-08]], device='cuda:0')"
      ]
     },
     "execution_count": 64,
     "metadata": {},
     "output_type": "execute_result"
    }
   ],
   "source": [
    "(U @ torch.diag(S) @ V.t()) - mat"
   ]
  },
  {
   "cell_type": "code",
   "execution_count": 156,
   "metadata": {},
   "outputs": [],
   "source": [
    "import json"
   ]
  },
  {
   "cell_type": "code",
   "execution_count": 158,
   "metadata": {},
   "outputs": [],
   "source": [
    "with open('output/bert_config.json', 'r') as f:\n",
    "    j = json.load(f)"
   ]
  },
  {
   "cell_type": "code",
   "execution_count": 159,
   "metadata": {},
   "outputs": [
    {
     "data": {
      "text/plain": [
       "{'attention_probs_dropout_prob': 0.1,\n",
       " 'hidden_act': 'gelu',\n",
       " 'hidden_dropout_prob': 0.1,\n",
       " 'hidden_size': 768,\n",
       " 'initializer_range': 0.02,\n",
       " 'intermediate_size': 3072,\n",
       " 'max_position_embeddings': 512,\n",
       " 'num_attention_heads': 12,\n",
       " 'num_hidden_layers': 12,\n",
       " 'type_vocab_size': 2,\n",
       " 'vocab_size': 30522}"
      ]
     },
     "execution_count": 159,
     "metadata": {},
     "output_type": "execute_result"
    }
   ],
   "source": [
    "j"
   ]
  },
  {
   "cell_type": "code",
   "execution_count": null,
   "metadata": {},
   "outputs": [],
   "source": []
  }
 ],
 "metadata": {
  "kernelspec": {
   "display_name": "Python 3",
   "language": "python",
   "name": "python3"
  },
  "language_info": {
   "codemirror_mode": {
    "name": "ipython",
    "version": 3
   },
   "file_extension": ".py",
   "mimetype": "text/x-python",
   "name": "python",
   "nbconvert_exporter": "python",
   "pygments_lexer": "ipython3",
   "version": "3.7.1"
  }
 },
 "nbformat": 4,
 "nbformat_minor": 2
}
