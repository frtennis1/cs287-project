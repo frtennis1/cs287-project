{
 "cells": [
  {
   "cell_type": "code",
   "execution_count": 2,
   "metadata": {},
   "outputs": [],
   "source": [
    "import torch\n",
    "from sklearn.cluster import MiniBatchKMeans\n",
    "import numpy as np"
   ]
  },
  {
   "cell_type": "code",
   "execution_count": 3,
   "metadata": {},
   "outputs": [],
   "source": [
    "state_dict = torch.load('output_DEPRECATED/pytorch_model.bin')"
   ]
  },
  {
   "cell_type": "code",
   "execution_count": 14,
   "metadata": {},
   "outputs": [],
   "source": [
    "def count_param(dict_):\n",
    "    num_param = sum([x.numel() for x in dict_.values()])\n",
    "    print(\"{:,}\".format(num_param))\n",
    "    return num_param\n",
    "\n",
    "def quantization(state_dict, n_clusters=128):\n",
    "    flattened = torch.cat([param.flatten() for param in state_dict.values()]).cpu().numpy().reshape(-1, 1)\n",
    "    kmeans = MiniBatchKMeans(n_clusters=n_clusters, max_no_improvement=2).fit(flattened)\n",
    "    clustered = [kmeans.cluster_centers_[index] for index in kmeans.predict(flattened)]\n",
    "\n",
    "    # replace the original parameters with cluster centers\n",
    "    cursor = 0\n",
    "    for key in state_dict.keys():\n",
    "        shape = state_dict[key].shape\n",
    "        size = state_dict[key].numel()\n",
    "        state_dict[key] = torch.Tensor(clustered[cursor:cursor + size]).reshape(shape)\n",
    "        cursor += size\n",
    "        \n",
    "    return state_dict"
   ]
  },
  {
   "cell_type": "code",
   "execution_count": 7,
   "metadata": {},
   "outputs": [],
   "source": [
    "dict_ = { key: state_dict[key]\n",
    "          for key in list(state_dict.keys())[:1] }"
   ]
  },
  {
   "cell_type": "code",
   "execution_count": 15,
   "metadata": {},
   "outputs": [
    {
     "name": "stdout",
     "output_type": "stream",
     "text": [
      "23,440,896\n"
     ]
    }
   ],
   "source": [
    "_ = count_param(dict_)"
   ]
  },
  {
   "cell_type": "code",
   "execution_count": 129,
   "metadata": {},
   "outputs": [
    {
     "name": "stdout",
     "output_type": "stream",
     "text": [
      "CPU times: user 1min 13s, sys: 580 ms, total: 1min 14s\n",
      "Wall time: 1min 14s\n"
     ]
    }
   ],
   "source": [
    "%%time\n",
    "_ = quantization(dict_)"
   ]
  },
  {
   "cell_type": "code",
   "execution_count": null,
   "metadata": {},
   "outputs": [],
   "source": []
  }
 ],
 "metadata": {
  "kernelspec": {
   "display_name": "Python 3",
   "language": "python",
   "name": "python3"
  },
  "language_info": {
   "codemirror_mode": {
    "name": "ipython",
    "version": 3
   },
   "file_extension": ".py",
   "mimetype": "text/x-python",
   "name": "python",
   "nbconvert_exporter": "python",
   "pygments_lexer": "ipython3",
   "version": "3.7.1"
  }
 },
 "nbformat": 4,
 "nbformat_minor": 2
}
