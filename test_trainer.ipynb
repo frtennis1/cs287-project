{
 "cells": [
  {
   "cell_type": "code",
   "execution_count": 1,
   "metadata": {},
   "outputs": [
    {
     "name": "stdout",
     "output_type": "stream",
     "text": [
      "Better speed can be achieved with apex installed from https://www.github.com/nvidia/apex.\n"
     ]
    }
   ],
   "source": [
    "%load_ext autoreload\n",
    "%autoreload 2\n",
    "\n",
    "import logging\n",
    "\n",
    "import torch\n",
    "from torch.utils.data import (DataLoader, RandomSampler, SequentialSampler,\n",
    "                              TensorDataset)\n",
    "from torch.utils.data.distributed import DistributedSampler\n",
    "from torch.nn import CrossEntropyLoss, MSELoss\n",
    "\n",
    "from util_funcs import *\n",
    "from data_processors import *\n",
    "from pytorch_pretrained_bert.file_utils import PYTORCH_PRETRAINED_BERT_CACHE\n",
    "from pytorch_pretrained_bert.modeling import BertForSequenceClassification, BertConfig, WEIGHTS_NAME, CONFIG_NAME\n",
    "from pytorch_pretrained_bert.tokenization import BertTokenizer\n",
    "from pytorch_pretrained_bert.optimization import BertAdam, warmup_linear\n",
    "\n",
    "from tensorboardX import SummaryWriter\n",
    "from distortions import *\n",
    "\n",
    "from tqdm import tqdm_notebook as tqdm\n",
    "from tqdm import trange\n",
    "\n",
    "from trainer import Trainer, DeepTwistTrainer"
   ]
  },
  {
   "cell_type": "code",
   "execution_count": 2,
   "metadata": {},
   "outputs": [],
   "source": [
    "processor = processors['qqp']()\n",
    "logging.basicConfig(format = '%(asctime)s - %(levelname)s - %(name)s -   %(message)s',\n",
    "                    datefmt = '%m/%d/%Y %H:%M:%S',\n",
    "                    level = logging.INFO, \n",
    "                    filename=f\"log_dir/{get_log_name()}.txt\")\n",
    "logger = logging.getLogger(__name__)\n",
    "\n",
    "runtime_config = dict(data_dir = \"glue_data/QQP\",\n",
    "                      bert_model = \"bert-base-uncased\",\n",
    "                      output_mode = \"classification\",\n",
    "                      max_seq_length = 64,\n",
    "                      local_rank = -1,\n",
    "                      batch_size = 32,\n",
    "                      num_train_epochs = 32,\n",
    "                      do_lower_case=True,\n",
    "                      do_train=True,\n",
    "                      train_batch_size=32,\n",
    "                      gradient_accumulation_steps = 1,\n",
    "                      n_gpu = 1,\n",
    "                      learning_rate = 5e-5,\n",
    "                      logger=logger,\n",
    "                      warmup_proportion = 0.1)\n",
    "locals().update(runtime_config)\n",
    "assert train_batch_size == batch_size\n",
    "\n",
    "label_list, num_labels, tokenizer, train_examples, \\\n",
    "           num_train_optimization_steps, train_dataloader = get_data(processor, runtime_config)\n",
    "\n",
    "eval_examples = processor.get_dev_examples(data_dir)\n",
    "eval_dataloader = get_dataloader(\n",
    "                eval_examples, label_list,\n",
    "                tokenizer, eval_data=True,\n",
    "                **runtime_config)\n",
    "\n",
    "device = torch.device(\"cuda\" if torch.cuda.is_available() else 'cpu')\n",
    "loss_fn = CrossEntropyLoss()"
   ]
  },
  {
   "cell_type": "code",
   "execution_count": null,
   "metadata": {},
   "outputs": [],
   "source": [
    "base_model = BertForSequenceClassification.from_pretrained(\n",
    "            bert_model, num_labels=num_labels).cpu().state_dict()\n",
    "\n",
    "decorator = to_bert(base_model)\n",
    "diff_prune = decorator(weight_prune)"
   ]
  },
  {
   "cell_type": "code",
   "execution_count": null,
   "metadata": {},
   "outputs": [],
   "source": [
    "for p in [.99]:\n",
    "    model = BertForSequenceClassification.from_pretrained(\n",
    "        bert_model, num_labels=num_labels).to(device).train()\n",
    "    optimizer = get_optimizer(\n",
    "        model, num_train_optimization_steps=num_train_optimization_steps, \n",
    "        **runtime_config)\n",
    "\n",
    "\n",
    "    tensorboard_log_dir = \"tensorboard_data/\"\n",
    "    tb_writer = SummaryWriter(log_dir=tensorboard_log_dir)\n",
    "    output_dir = f\"output/qqp/deeptwist/diff_prune{int(100*p)}_{get_log_name()}/\"\n",
    "    os.mkdir(output_dir)\n",
    "    \n",
    "    trainer = DeepTwistTrainer(\n",
    "        model=model, data=train_dataloader, val_data=eval_dataloader,\n",
    "        num_labels=num_labels,\n",
    "        output_dir=output_dir,\n",
    "        twist_frequency=10,\n",
    "        loss_fn=loss_fn,\n",
    "        optimizer=optimizer,\n",
    "        distort=diff_prune,\n",
    "        twist_args={'p': p},\n",
    "        writer=tb_writer,\n",
    "        device=device,\n",
    "        **runtime_config,\n",
    "    )\n",
    "\n",
    "    trainer.train(num_train_epochs=num_train_epochs, \n",
    "                  report_frequency=12, patience=1, report_validation_frequency=100,\n",
    "                  report_validation=True)"
   ]
  },
  {
   "cell_type": "code",
   "execution_count": null,
   "metadata": {},
   "outputs": [],
   "source": []
  },
  {
   "cell_type": "code",
   "execution_count": null,
   "metadata": {},
   "outputs": [],
   "source": []
  }
 ],
 "metadata": {
  "kernelspec": {
   "display_name": "Python 3",
   "language": "python",
   "name": "python3"
  },
  "language_info": {
   "codemirror_mode": {
    "name": "ipython",
    "version": 3
   },
   "file_extension": ".py",
   "mimetype": "text/x-python",
   "name": "python",
   "nbconvert_exporter": "python",
   "pygments_lexer": "ipython3",
   "version": "3.7.1"
  }
 },
 "nbformat": 4,
 "nbformat_minor": 2
}
